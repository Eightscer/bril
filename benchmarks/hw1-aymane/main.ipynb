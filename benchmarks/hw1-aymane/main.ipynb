{
 "cells": [
  {
   "cell_type": "code",
   "execution_count": 52,
   "metadata": {},
   "outputs": [],
   "source": [
    "import json\n",
    "\n",
    "with open('bench.bril', 'r') as file:\n",
    "    bril_file = json.load(file)"
   ]
  },
  {
   "cell_type": "code",
   "execution_count": 53,
   "metadata": {},
   "outputs": [
    {
     "name": "stdout",
     "output_type": "stream",
     "text": [
      "Function 'main' has 6 instructions.\n",
      "Function 'benchmark' has 50 instructions.\n"
     ]
    },
    {
     "data": {
      "text/plain": [
       "[{'op': 'br', 'args': ['v7'], 'labels': ['for.body.3', 'for.end.3']},\n",
       " {'op': 'br', 'args': ['v20'], 'labels': ['then.17', 'else.17']}]"
      ]
     },
     "execution_count": 53,
     "metadata": {},
     "output_type": "execute_result"
    }
   ],
   "source": [
    "def find_op(bril_file, op):\n",
    "    add_instrs = []\n",
    "    \n",
    "    functions = bril_file.get('functions', [])\n",
    "\n",
    "    for function in functions:\n",
    "        instrs = function.get('instrs', [])\n",
    "        num_instrs = len(instrs)\n",
    "        \n",
    "        print(f\"Function '{function['name']}' has {num_instrs} instructions.\")\n",
    "        \n",
    "        for instr in instrs:\n",
    "            if instr.get('op') == op:\n",
    "                add_instrs.append(instr)\n",
    "\n",
    "    return add_instrs\n",
    "\n",
    "find_op(bril_file, \"br\")"
   ]
  },
  {
   "cell_type": "code",
   "execution_count": 54,
   "metadata": {},
   "outputs": [
    {
     "data": {
      "text/plain": [
       "{'const': 10,\n",
       " 'call': 1,\n",
       " 'id': 25,\n",
       " 'print': 1,\n",
       " 'lt': 1,\n",
       " 'br': 2,\n",
       " 'add': 3,\n",
       " 'mul': 1,\n",
       " 'sub': 2,\n",
       " 'eq': 1,\n",
       " 'jmp': 2,\n",
       " 'ret': 1}"
      ]
     },
     "execution_count": 54,
     "metadata": {},
     "output_type": "execute_result"
    }
   ],
   "source": [
    "def count_instruction_types(bril_file):\n",
    "    instruction_count = {}\n",
    "    \n",
    "    functions = bril_file.get('functions', [])\n",
    "\n",
    "    for function in functions:\n",
    "        instrs = function.get('instrs', [])\n",
    "        \n",
    "        for instr in instrs:\n",
    "            op_type = instr.get('op')\n",
    "            if op_type:\n",
    "\n",
    "                instruction_count[op_type] = instruction_count.get(op_type, 0) + 1\n",
    "\n",
    "    return instruction_count\n",
    "\n",
    "count_instruction_types(bril_file)"
   ]
  },
  {
   "cell_type": "code",
   "execution_count": 57,
   "metadata": {},
   "outputs": [
    {
     "name": "stdout",
     "output_type": "stream",
     "text": [
      "{'functions': [{'name': 'main', 'instrs': [{'op': 'const', 'value': 10, 'dest': 'v31', 'type': 'int'}, {'op': 'call', 'dest': 'result', 'type': 'int', 'args': ['v31'], 'funcs': ['benchmark']}, {'op': 'id', 'dest': 'result', 'type': 'int', 'args': ['result']}, {'op': 'id', 'dest': 'v32', 'type': 'int', 'args': ['result']}, {'op': 'print', 'args': ['v32']}, {'op': 'const', 'value': 0, 'dest': 'v33', 'type': 'int'}], 'args': []}, {'name': 'benchmark', 'instrs': [{'op': 'const', 'value': 0, 'dest': 'v0', 'type': 'int'}, {'op': 'id', 'dest': 'sum', 'type': 'int', 'args': ['v0']}, {'op': 'const', 'value': 1, 'dest': 'v1', 'type': 'int'}, {'op': 'id', 'dest': 'product', 'type': 'int', 'args': ['v1']}, {'op': 'const', 'value': 1, 'dest': 'v2', 'type': 'int'}, {'op': 'id', 'dest': 'flag', 'type': 'int', 'args': ['v2']}, {'op': 'const', 'value': 0, 'dest': 'v4', 'type': 'int'}, {'op': 'id', 'dest': 'i', 'type': 'int', 'args': ['v4']}, {'label': 'for.cond.3'}, {'op': 'id', 'dest': 'v5', 'type': 'int', 'args': ['i']}, {'op': 'id', 'dest': 'v6', 'type': 'int', 'args': ['iterations']}, {'op': 'lt', 'dest': 'v7', 'type': 'bool', 'args': ['v5', 'v6']}, {'op': 'br', 'args': ['v7'], 'labels': ['for.body.3', 'for.end.3']}, {'label': 'for.body.3'}, {'op': 'id', 'dest': 'v8', 'type': 'int', 'args': ['sum']}, {'op': 'id', 'dest': 'v9', 'type': 'int', 'args': ['i']}, {'op': 'add', 'dest': 'v10', 'type': 'int', 'args': ['v8', 'v9']}, {'op': 'id', 'dest': 'sum', 'type': 'int', 'args': ['v10']}, {'op': 'id', 'dest': 'v11', 'type': 'int', 'args': ['product']}, {'op': 'const', 'value': 2, 'dest': 'v12', 'type': 'int'}, {'op': 'mul', 'dest': 'v13', 'type': 'int', 'args': ['v11', 'v12']}, {'op': 'id', 'dest': 'product', 'type': 'int', 'args': ['v13']}, {'op': 'const', 'value': 1, 'dest': 'v14', 'type': 'int'}, {'op': 'id', 'dest': 'v15', 'type': 'int', 'args': ['flag']}, {'op': 'sub', 'dest': 'v16', 'type': 'int', 'args': ['v14', 'v15']}, {'op': 'id', 'dest': 'flag', 'type': 'int', 'args': ['v16']}, {'op': 'id', 'dest': 'v18', 'type': 'int', 'args': ['flag']}, {'op': 'const', 'value': 0, 'dest': 'v19', 'type': 'int'}, {'op': 'eq', 'dest': 'v20', 'type': 'bool', 'args': ['v18', 'v19']}, {'op': 'br', 'args': ['v20'], 'labels': ['then.17', 'else.17']}, {'label': 'then.17'}, {'op': 'id', 'dest': 'v21', 'type': 'int', 'args': ['sum']}, {'op': 'id', 'dest': 'v22', 'type': 'int', 'args': ['product']}, {'op': 'sub', 'dest': 'v23', 'type': 'int', 'args': ['v21', 'v22']}, {'op': 'id', 'dest': 'sum', 'type': 'int', 'args': ['v23']}, {'op': 'id', 'dest': 'v30', 'type': 'int', 'args': ['i']}, {'op': 'print', 'args': ['v30']}, {'op': 'jmp', 'args': [], 'labels': ['endif.17']}, {'label': 'else.17'}, {'op': 'id', 'dest': 'v24', 'type': 'int', 'args': ['sum']}, {'op': 'id', 'dest': 'v25', 'type': 'int', 'args': ['product']}, {'op': 'add', 'dest': 'v26', 'type': 'int', 'args': ['v24', 'v25']}, {'op': 'id', 'dest': 'sum', 'type': 'int', 'args': ['v26']}, {'label': 'endif.17'}, {'op': 'id', 'dest': 'v27', 'type': 'int', 'args': ['i']}, {'op': 'const', 'value': 1, 'dest': 'v28', 'type': 'int'}, {'op': 'add', 'dest': 'v29', 'type': 'int', 'args': ['v27', 'v28']}, {'op': 'id', 'dest': 'i', 'type': 'int', 'args': ['v29']}, {'op': 'id', 'dest': 'v30', 'type': 'int', 'args': ['i']}, {'op': 'print', 'args': ['v30']}, {'op': 'jmp', 'args': [], 'labels': ['for.cond.3']}, {'label': 'for.end.3'}, {'op': 'id', 'dest': 'v30', 'type': 'int', 'args': ['sum']}, {'op': 'ret', 'args': ['v30']}], 'args': [{'name': 'iterations', 'type': 'int'}], 'type': 'int'}]}\n"
     ]
    }
   ],
   "source": [
    "def insert_before_op_code(bril_file, target_op_code):\n",
    "    functions = bril_file.get('functions', [])\n",
    "\n",
    "    for function in functions:\n",
    "        instrs = function.get('instrs', [])\n",
    "\n",
    "        modified_instrs = []\n",
    "\n",
    "        for instr in instrs:\n",
    "            if instr.get('op') == target_op_code:\n",
    "                modified_instrs.append({\"op\": \"id\", \n",
    "                                        \"dest\": \"v30\", \n",
    "                                        \"type\": \"int\", \n",
    "                                        \"args\": [\"i\"]})\n",
    "                                        \n",
    "                modified_instrs.append({\"op\": \"print\", \n",
    "                                         \"args\": [\"v30\"]})\n",
    "\n",
    "            modified_instrs.append(instr)\n",
    "\n",
    "        function['instrs'] = modified_instrs\n",
    "\n",
    "    return bril_file\n",
    "\n",
    "with open('bench.bril', 'r') as file:\n",
    "    bril_file = json.load(file)\n",
    "\n",
    "print_after_jmp = insert_before_op_code(bril_file, \"jmp\")\n",
    "print(print_after_jmp)\n",
    "\n",
    "with open(\"bench-print-before-jmp.bril\", 'w') as file:\n",
    "    json.dump(print_after_jmp, file)\n"
   ]
  }
 ],
 "metadata": {
  "kernelspec": {
   "display_name": "Python 3",
   "language": "python",
   "name": "python3"
  },
  "language_info": {
   "codemirror_mode": {
    "name": "ipython",
    "version": 3
   },
   "file_extension": ".py",
   "mimetype": "text/x-python",
   "name": "python",
   "nbconvert_exporter": "python",
   "pygments_lexer": "ipython3",
   "version": "3.9.6"
  }
 },
 "nbformat": 4,
 "nbformat_minor": 2
}
